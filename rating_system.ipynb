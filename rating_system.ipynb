{
 "cells": [
  {
   "cell_type": "code",
   "execution_count": 1,
   "id": "986747f4-c69c-4824-8c2d-9bb322a39573",
   "metadata": {
    "tags": []
   },
   "outputs": [],
   "source": [
    "from itertools import chain, product\n",
    "from operator import sub\n",
    "from pprint import pprint as print\n",
    "\n",
    "import numpy as np\n",
    "import pandarallel\n",
    "import pandas as pd\n",
    "import torch\n",
    "from matplotlib import pyplot as plt\n",
    "from scipy import stats\n",
    "from scipy.spatial.distance import cdist, pdist\n",
    "from tqdm import tqdm"
   ]
  },
  {
   "cell_type": "code",
   "execution_count": 2,
   "id": "1dcdf7af-6e90-420e-b25e-ea464599127b",
   "metadata": {
    "tags": []
   },
   "outputs": [
    {
     "name": "stdout",
     "output_type": "stream",
     "text": [
      "INFO: Pandarallel will run on 8 workers.\n",
      "INFO: Pandarallel will use standard multiprocessing data transfer (pipe) to transfer data between the main process and workers.\n"
     ]
    }
   ],
   "source": [
    "pandarallel.pandarallel.initialize()"
   ]
  },
  {
   "cell_type": "code",
   "execution_count": 3,
   "id": "51a4ccca-380e-4fc7-ba24-db3b0ebd1af2",
   "metadata": {
    "tags": []
   },
   "outputs": [],
   "source": [
    "players_df = pd.read_pickle(\"chgk/players.pkl\")\n",
    "players_df = pd.DataFrame(players_df.values())\n",
    "\n",
    "tour_df = pd.read_pickle(\"chgk/tournaments.pkl\")\n",
    "tour_df = pd.DataFrame(tour_df.values())\n",
    "tour_df = tour_df.set_index(\"id\")\n",
    "\n",
    "res_df = pd.read_pickle(\"chgk/results.pkl\")\n",
    "# res_df = pd.DataFrame(res_df.values())"
   ]
  },
  {
   "cell_type": "markdown",
   "id": "100431e5-7719-48c0-808f-16a3911bfadc",
   "metadata": {},
   "source": [
    "## train test split"
   ]
  },
  {
   "cell_type": "code",
   "execution_count": 4,
   "id": "1648dfef-5928-4b0a-8c6b-6e82e81ba692",
   "metadata": {
    "tags": []
   },
   "outputs": [],
   "source": [
    "START_DATE = \"2019-01-01\"\n",
    "SPLIT_DATE = \"2020-01-01\"\n",
    "END_DATE = \"2021-01-01\"\n",
    "\n",
    "train = tour_df[(tour_df.dateStart >= START_DATE) & (tour_df.dateStart < SPLIT_DATE)]\n",
    "test = tour_df[(tour_df.dateStart >= SPLIT_DATE) & (tour_df.dateStart < END_DATE)]\n",
    "\n",
    "train_results = {i: res_df[i] for i in train.index if len(res_df[i]) > 0}\n",
    "test_results = {i: res_df[i] for i in test.index if len(res_df[i]) > 0}"
   ]
  },
  {
   "cell_type": "code",
   "execution_count": 5,
   "id": "f60b1fe5-b87d-4535-b6d5-060fde720b42",
   "metadata": {
    "tags": []
   },
   "outputs": [
    {
     "data": {
      "text/plain": [
       "(680, 680, 5528, 204063)"
      ]
     },
     "execution_count": 5,
     "metadata": {},
     "output_type": "execute_result"
    }
   ],
   "source": [
    "len(train_results), len(train_results), len(tour_df), len(players_df)"
   ]
  },
  {
   "cell_type": "markdown",
   "id": "25e0f22b-1c65-4e45-b72a-3374b4998174",
   "metadata": {},
   "source": [
    "### Data preprocessing"
   ]
  },
  {
   "cell_type": "markdown",
   "id": "edb9d0e5-7a7a-4808-b2e1-1cd9e56bc298",
   "metadata": {},
   "source": [
    "Удалим турниры(и команды в турнирах) где нет повопросных результатов"
   ]
  },
  {
   "cell_type": "code",
   "execution_count": 6,
   "id": "a1f29a69-3003-47ab-aed8-4f6759ee4111",
   "metadata": {
    "tags": []
   },
   "outputs": [],
   "source": [
    "# step 1\n",
    "def process_tournament_team_result(team_object: dict):\n",
    "    try:\n",
    "        if team_object[\"mask\"] is None:\n",
    "            return None\n",
    "        if len(team_object[\"teamMembers\"]) == 0:\n",
    "            return None\n",
    "\n",
    "        team_id = team_object[\"team\"][\"id\"]\n",
    "        team_members_ids = [\n",
    "            player[\"player\"][\"id\"] for player in team_object[\"teamMembers\"]\n",
    "        ]\n",
    "        question_mask = np.array(\n",
    "            list(map(int, list(team_object[\"mask\"]))), dtype=np.int8\n",
    "        )\n",
    "    except Exception:\n",
    "        return None\n",
    "\n",
    "    return (team_id, team_members_ids, question_mask)\n",
    "\n",
    "\n",
    "# step 2\n",
    "def process_tournament_result(result_object: dict):\n",
    "    teams_results = [\n",
    "        process_tournament_team_result(team_result_object)\n",
    "        for team_result_object in result_object\n",
    "    ]\n",
    "    return [r for r in teams_results if r is not None]\n",
    "\n",
    "\n",
    "# step 3\n",
    "def split_team_results_by_player(teams_results):\n",
    "    res = []\n",
    "    for _, players, mask in teams_results:\n",
    "        for player in players:\n",
    "            res.append((player, mask))\n",
    "    player_ids, masks = zip(*res)\n",
    "    return player_ids, masks\n",
    "\n",
    "\n",
    "def pad_masks(masks):\n",
    "    lengths = list(map(len, masks))\n",
    "    max_len = max(lengths)\n",
    "    masks = list(map(lambda m: (list(m) + [0] * max_len)[:max_len], masks))\n",
    "    return masks\n",
    "\n",
    "\n",
    "# merge steps for single tournament\n",
    "def process_tournament(result_object: dict):\n",
    "    teams_results = process_tournament_result(result_object)\n",
    "    if len(teams_results) == 0:\n",
    "        return None\n",
    "    player_ids, masks = split_team_results_by_player(teams_results)\n",
    "    masks = np.array(pad_masks(masks))\n",
    "    questions_simplicity = 1 - np.mean(masks, axis=0)\n",
    "    return player_ids, masks, questions_simplicity\n",
    "\n",
    "\n",
    "# process all the tournaments\n",
    "def process_all_tournaments(results_list: list[dict]):\n",
    "    results = []\n",
    "    for key, res in tqdm(results_list.items()):\n",
    "        processed_tournament = process_tournament(res)\n",
    "        if processed_tournament is not None:\n",
    "            results.append(processed_tournament)\n",
    "    return results"
   ]
  },
  {
   "cell_type": "code",
   "execution_count": 7,
   "id": "641f2b4a-5215-4710-bb29-b66f6eb64b9a",
   "metadata": {
    "tags": []
   },
   "outputs": [
    {
     "name": "stderr",
     "output_type": "stream",
     "text": [
      "100%|████████████████████████████████████████████████████████████████████████████████████████| 680/680 [00:01<00:00, 363.91it/s]\n",
      "100%|████████████████████████████████████████████████████████████████████████████████████████| 196/196 [00:00<00:00, 481.53it/s]\n"
     ]
    }
   ],
   "source": [
    "train_preprocessed = process_all_tournaments(train_results)\n",
    "test_preprocessed = process_all_tournaments(test_results)"
   ]
  },
  {
   "cell_type": "code",
   "execution_count": 8,
   "id": "36fecb64-8756-4071-8283-a41dfecc8a41",
   "metadata": {
    "tags": []
   },
   "outputs": [],
   "source": [
    "players, masks, difficulties = train_preprocessed[1]"
   ]
  },
  {
   "cell_type": "code",
   "execution_count": 9,
   "id": "369e5c8d-c96f-4e4f-bbb9-a4a594c91a1a",
   "metadata": {
    "tags": []
   },
   "outputs": [
    {
     "data": {
      "text/plain": [
       "(5272, 5272, 36)"
      ]
     },
     "execution_count": 9,
     "metadata": {},
     "output_type": "execute_result"
    }
   ],
   "source": [
    "len(players), len(masks), len(difficulties)"
   ]
  },
  {
   "cell_type": "code",
   "execution_count": 10,
   "id": "eb26e60a-054b-413d-8cc9-19776624f7c0",
   "metadata": {
    "tags": []
   },
   "outputs": [
    {
     "name": "stderr",
     "output_type": "stream",
     "text": [
      "100%|████████████████████████████████████████████████████████████████████████████████████████| 616/616 [00:05<00:00, 107.58it/s]\n"
     ]
    }
   ],
   "source": [
    "dataset = []\n",
    "global_question_idx = 0\n",
    "for players, masks, difficulties in tqdm(train_preprocessed):\n",
    "    for i, player_id in enumerate(players):\n",
    "        for j in range(0, len(difficulties)):\n",
    "            dataset.append(\n",
    "                (player_id, global_question_idx + j, difficulties[j], masks[i][j])\n",
    "            )\n",
    "    global_question_idx += len(difficulties)"
   ]
  },
  {
   "cell_type": "code",
   "execution_count": 11,
   "id": "1424d189-fef6-4a67-a3f6-b5ce818fb011",
   "metadata": {
    "tags": []
   },
   "outputs": [],
   "source": [
    "df = pd.DataFrame(dataset, columns=[\"player_id\", \"question_id\", \"difficulty\", \"result\"])"
   ]
  },
  {
   "cell_type": "code",
   "execution_count": 12,
   "id": "29b0f67c-0002-46eb-b930-1f66fb08e1c2",
   "metadata": {
    "tags": []
   },
   "outputs": [],
   "source": [
    "question_difficulties = (\n",
    "    df[[\"question_id\", \"difficulty\"]]\n",
    "    .groupby(\"question_id\", as_index=False)\n",
    "    .mean()\n",
    "    .difficulty\n",
    ")\n",
    "unique_players = df.player_id.unique()\n",
    "known_players = set(unique_players)"
   ]
  },
  {
   "cell_type": "code",
   "execution_count": 13,
   "id": "734d8be3-0c15-46fd-8337-6499a5319ee5",
   "metadata": {
    "tags": []
   },
   "outputs": [
    {
     "data": {
      "text/plain": [
       "224542"
      ]
     },
     "execution_count": 13,
     "metadata": {},
     "output_type": "execute_result"
    }
   ],
   "source": [
    "max(unique_players)"
   ]
  },
  {
   "cell_type": "code",
   "execution_count": 14,
   "id": "d04a2c9e-c114-443a-897a-807522a60eab",
   "metadata": {
    "tags": []
   },
   "outputs": [
    {
     "data": {
      "text/plain": [
       "(30521, 57288)"
      ]
     },
     "execution_count": 14,
     "metadata": {},
     "output_type": "execute_result"
    }
   ],
   "source": [
    "len(question_difficulties), len(unique_players)"
   ]
  },
  {
   "cell_type": "markdown",
   "id": "cb714aa4-15cd-44f3-98f1-0cacf1166f21",
   "metadata": {
    "tags": []
   },
   "source": [
    "### Baseline model\n",
    "\n",
    "Пусть есть:\n",
    "\n",
    "вектор рейтингов всех игроков $r = [r_1, \\ldots, r_{N_p}]^T$\n",
    "\n",
    "вектор сложности всех вопросов $d = [d_1, \\ldots, d_{N_{d}}]^T$ (для бэйзлайн модели взята просто доля неправильно ответивших команд)\n",
    "\n",
    "матрица A ответов i-го игрока на k-ый вопрос $ a_{ik} = [\\text{игрок } i \\text{ правильно ответил на вопрос }k]$\n",
    "\n",
    "**Моделировать будем логистической регрессией от рейтинга и сложности вопроса:**\n",
    "\n",
    "$\\hat{a}_{ik}= \\sigma(r_i + \\theta d_k  + b)  \\approx a_{ik}$\n",
    "\n",
    "в бейзлайн модели вектор d заморожен\n"
   ]
  },
  {
   "cell_type": "code",
   "execution_count": 15,
   "id": "95f64d15-d6b2-41cf-81df-735c3de33613",
   "metadata": {},
   "outputs": [],
   "source": [
    "class SimplePlayerRanker(torch.nn.Module):\n",
    "    def __init__(self, n_players, n_questions, init_difficulties=None):\n",
    "        super().__init__()\n",
    "        self.ratings = torch.nn.Embedding(n_players, 1)\n",
    "        self.difficulties = torch.nn.Embedding(n_questions, 1)\n",
    "        self.theta = torch.nn.Parameter(torch.tensor(1.0))\n",
    "        self.bias = torch.nn.Parameter(torch.rand(1))\n",
    "\n",
    "        if init_difficulties is not None:\n",
    "            with torch.no_grad():\n",
    "                self.difficulties.weight.data = torch.tensor(init_difficulties)\n",
    "                self.difficulties.requires_grad_(False)\n",
    "\n",
    "    def decode(self, batch):\n",
    "        player_ids, question_ids, targets = zip(*batch)\n",
    "        ratings = self.ratings(torch.tensor(player_ids))\n",
    "        difficulties = self.difficulties(torch.tensor(question_ids))\n",
    "        targets = torch.tensor(targets, dtype=torch.float64).unsqueeze(1)\n",
    "\n",
    "        return ratings, difficulties, targets\n",
    "\n",
    "    def forward(self, ratings, difficulties):\n",
    "        logits = ratings + difficulties * self.theta + self.bias\n",
    "        probs = torch.nn.functional.sigmoid(logits)\n",
    "        return probs"
   ]
  },
  {
   "cell_type": "code",
   "execution_count": 79,
   "id": "eb896458-12f5-4e72-bd89-d4d8ed7cda87",
   "metadata": {
    "tags": []
   },
   "outputs": [
    {
     "name": "stderr",
     "output_type": "stream",
     "text": [
      "/tmp/ipykernel_1004/1513091899.py:11: UserWarning: To copy construct from a tensor, it is recommended to use sourceTensor.clone().detach() or sourceTensor.clone().detach().requires_grad_(True), rather than torch.tensor(sourceTensor).\n",
      "  self.difficulties.weight.data = torch.tensor(init_difficulties)\n"
     ]
    }
   ],
   "source": [
    "ranker = SimplePlayerRanker(\n",
    "    max(unique_players) + 1,\n",
    "    len(question_difficulties),\n",
    "    init_difficulties=torch.tensor(question_difficulties).unsqueeze(1),\n",
    ")"
   ]
  },
  {
   "cell_type": "markdown",
   "id": "684e5c58-c8af-41ea-8637-78fd5f6daa8d",
   "metadata": {},
   "source": [
    "## Test ranking\n",
    "\n",
    "Будем брать рейтинг команды как максимальный рейтинг игроков в команде (пробовал средний, но максимальный лучше кореллирует с фактическим ранжированием)\n",
    "необученным игрокам присваиваем средний рейтинг\n"
   ]
  },
  {
   "cell_type": "code",
   "execution_count": 80,
   "id": "c5b65ddd-ea2b-4178-b555-1d87eccf5b25",
   "metadata": {
    "tags": []
   },
   "outputs": [],
   "source": [
    "def get_team_rank(player_ids, ratings_emb):\n",
    "    UNKNOWN_RATING = np.mean(ratings_emb.weight.data.squeeze().numpy())\n",
    "\n",
    "    if len(player_ids) == 0:\n",
    "        return UNKNOWN_RATING\n",
    "    with torch.no_grad():\n",
    "        ratings = [\n",
    "            ratings_emb(torch.tensor(player_id)).numpy()[0]\n",
    "            if player_id in known_players\n",
    "            else UNKNOWN_RATING\n",
    "            for player_id in player_ids\n",
    "        ]\n",
    "    return np.max(ratings)\n",
    "\n",
    "\n",
    "def ranking_score(test_dataset, ratings_emb):\n",
    "    scores = []\n",
    "    for _, tournament in test_dataset.items():\n",
    "        tournament_ranking = [\n",
    "            (\n",
    "                team[\"position\"],\n",
    "                get_team_rank(\n",
    "                    [player[\"player\"][\"id\"] for player in team[\"teamMembers\"]],\n",
    "                    ratings_emb,\n",
    "                ),\n",
    "            )\n",
    "            for team in tournament\n",
    "            if \"position\" in team\n",
    "        ]\n",
    "        if len(tournament_ranking) == 0:\n",
    "            continue\n",
    "        actual_ranking, predicted_ranking = zip(*tournament_ranking)\n",
    "\n",
    "        correlation = stats.spearmanr(\n",
    "            predicted_ranking, actual_ranking[::-1], nan_policy=\"omit\"\n",
    "        ).correlation\n",
    "\n",
    "        if correlation is not np.nan:\n",
    "            scores.append(correlation)\n",
    "\n",
    "        return np.mean(scores)"
   ]
  },
  {
   "cell_type": "code",
   "execution_count": 81,
   "id": "5465e6ba-c5e0-4a8c-89bc-45fd81e12e8e",
   "metadata": {
    "tags": []
   },
   "outputs": [
    {
     "data": {
      "text/plain": [
       "0.23017836493946253"
      ]
     },
     "execution_count": 81,
     "metadata": {},
     "output_type": "execute_result"
    }
   ],
   "source": [
    "ranking_score(test_results, ranker.ratings)"
   ]
  },
  {
   "cell_type": "markdown",
   "id": "88fc8b25-b8f8-4c6f-aaa5-e486977ead23",
   "metadata": {},
   "source": [
    "## Trainig loop\n"
   ]
  },
  {
   "cell_type": "code",
   "execution_count": 82,
   "id": "352c6abb-cf38-4321-9000-e61f51179d91",
   "metadata": {
    "tags": []
   },
   "outputs": [],
   "source": [
    "train_data = df[[\"player_id\", \"question_id\", \"result\"]].values"
   ]
  },
  {
   "cell_type": "code",
   "execution_count": 83,
   "id": "f79f5532-50ff-4331-97cb-f8788c458781",
   "metadata": {
    "tags": []
   },
   "outputs": [],
   "source": [
    "EPOCHS = 5\n",
    "BATCH_SIZE = 1024*8\n",
    "LR = 0.01"
   ]
  },
  {
   "cell_type": "code",
   "execution_count": 84,
   "id": "a72f5046-a679-4e44-a406-5c864deb3968",
   "metadata": {
    "tags": []
   },
   "outputs": [],
   "source": [
    "optimizer = torch.optim.Adam(ranker.parameters())"
   ]
  },
  {
   "cell_type": "code",
   "execution_count": 85,
   "id": "0dff8c6e-73b9-42a7-b5e2-194cd071d90f",
   "metadata": {
    "tags": []
   },
   "outputs": [],
   "source": [
    "def get_batches(data, batch_size):\n",
    "    for i in range(len(data) // batch_size):\n",
    "        yield data[i * batch_size : (i + 1) * batch_size]"
   ]
  },
  {
   "cell_type": "code",
   "execution_count": 86,
   "id": "0f47d550-e3dd-4d12-a009-9ca2adc754eb",
   "metadata": {
    "tags": []
   },
   "outputs": [
    {
     "name": "stdout",
     "output_type": "stream",
     "text": [
      "'Ranking correlation: 0.23017836493946253'\n"
     ]
    },
    {
     "name": "stderr",
     "output_type": "stream",
     "text": [
      " 15%|███████████▏                                                               | 382/2558 [00:15<01:25, 25.39it/s, loss=0.4496]\n",
      "100%|█████████████████████████████████████████████████████████████████████████| 2558/2558 [00:30<00:00, 148.21it/s, loss=0.6251]"
     ]
    },
    {
     "name": "stdout",
     "output_type": "stream",
     "text": [
      "'Ranking correlation: 0.47735002285219696'\n"
     ]
    },
    {
     "name": "stderr",
     "output_type": "stream",
     "text": [
      "100%|██████████████████████████████████████████████████████████████████████████| 2558/2558 [00:32<00:00, 78.89it/s, loss=0.6251]\n",
      "100%|█████████████████████████████████████████████████████████████████████████| 2558/2558 [00:32<00:00, 149.56it/s, loss=0.5253]"
     ]
    },
    {
     "name": "stdout",
     "output_type": "stream",
     "text": [
      "'Ranking correlation: 0.6128196082171091'\n"
     ]
    },
    {
     "name": "stderr",
     "output_type": "stream",
     "text": [
      "100%|██████████████████████████████████████████████████████████████████████████| 2558/2558 [00:34<00:00, 74.96it/s, loss=0.5253]\n",
      "100%|█████████████████████████████████████████████████████████████████████████| 2558/2558 [00:35<00:00, 149.83it/s, loss=0.4750]"
     ]
    },
    {
     "name": "stdout",
     "output_type": "stream",
     "text": [
      "'Ranking correlation: 0.6770373475178011'\n"
     ]
    },
    {
     "name": "stderr",
     "output_type": "stream",
     "text": [
      "100%|██████████████████████████████████████████████████████████████████████████| 2558/2558 [00:37<00:00, 68.60it/s, loss=0.4750]\n",
      "100%|█████████████████████████████████████████████████████████████████████████| 2558/2558 [00:33<00:00, 147.44it/s, loss=0.4601]"
     ]
    },
    {
     "name": "stdout",
     "output_type": "stream",
     "text": [
      "'Ranking correlation: 0.7155216244994432'\n"
     ]
    },
    {
     "name": "stderr",
     "output_type": "stream",
     "text": [
      "100%|██████████████████████████████████████████████████████████████████████████| 2558/2558 [00:35<00:00, 72.54it/s, loss=0.4601]\n",
      "100%|█████████████████████████████████████████████████████████████████████████| 2558/2558 [00:31<00:00, 143.17it/s, loss=0.4562]"
     ]
    }
   ],
   "source": [
    "for i in range(EPOCHS):\n",
    "    # shuffle df\n",
    "    df = df.sample(frac=1)\n",
    "\n",
    "    train_data = df[[\"player_id\", \"question_id\", \"result\"]].values\n",
    "    batches = get_batches(train_data, BATCH_SIZE)\n",
    "\n",
    "    print(f\"Ranking correlation: {ranking_score(test_results, ranker.ratings)}\")\n",
    "    pbar = tqdm(total=len(train_data) // BATCH_SIZE, position=0, leave=True)\n",
    "    for batch in batches:\n",
    "        optimizer.zero_grad()\n",
    "        ratings, difficulties, targets = ranker.decode(batch)\n",
    "        pred_probs = ranker.forward(ratings, difficulties)\n",
    "        loss = torch.nn.functional.binary_cross_entropy(pred_probs, targets)\n",
    "        loss.backward()\n",
    "        optimizer.step()\n",
    "        pbar.update()\n",
    "        pbar.set_postfix({\"loss\": f\"{loss.detach().numpy():.4f}\"})"
   ]
  },
  {
   "cell_type": "code",
   "execution_count": 87,
   "id": "c686e36d-5057-42e0-98bd-2680d1a374c9",
   "metadata": {
    "tags": []
   },
   "outputs": [
    {
     "name": "stdout",
     "output_type": "stream",
     "text": [
      "'Ranking correlation: 0.7182340705276674'\n"
     ]
    }
   ],
   "source": [
    "print(f\"Ranking correlation: {ranking_score(test_results, ranker.ratings)}\")"
   ]
  },
  {
   "cell_type": "code",
   "execution_count": 90,
   "id": "87496a20-f0a8-4b6c-a0f7-6abb12a60811",
   "metadata": {
    "tags": []
   },
   "outputs": [],
   "source": [
    "#torch.save(ranker.state_dict(), \"ranker_weigths_0718.pt\")"
   ]
  },
  {
   "cell_type": "code",
   "execution_count": 89,
   "id": "f9aed5ce-4749-4bea-9650-827fe8aea321",
   "metadata": {
    "tags": []
   },
   "outputs": [
    {
     "data": {
      "text/plain": [
       "<All keys matched successfully>"
      ]
     },
     "execution_count": 89,
     "metadata": {},
     "output_type": "execute_result"
    }
   ],
   "source": [
    "ranker.load_state_dict(torch.load(\"ranker_weigths_0718.pt\"))"
   ]
  },
  {
   "cell_type": "code",
   "execution_count": 92,
   "id": "27212d98-c33e-42a9-82a8-cb7c4f18cacb",
   "metadata": {
    "tags": []
   },
   "outputs": [
    {
     "data": {
      "text/plain": [
       "-0.056475308"
      ]
     },
     "execution_count": 92,
     "metadata": {},
     "output_type": "execute_result"
    }
   ],
   "source": [
    "ratings_emb = ranker.ratings\n",
    "mean_rating = np.mean(ratings_emb.weight.data.squeeze().numpy())\n",
    "mean_rating"
   ]
  },
  {
   "cell_type": "code",
   "execution_count": 93,
   "id": "bd9929ac-c535-4ffc-82dc-a824eb16fccf",
   "metadata": {
    "tags": []
   },
   "outputs": [
    {
     "data": {
      "image/png": "[encoded data removed]",
      "text/plain": [
       "<Figure size 640x480 with 1 Axes>"
      ]
     },
     "metadata": {},
     "output_type": "display_data"
    }
   ],
   "source": [
    "plt.hist(ratings_emb.weight.data.squeeze().numpy(), bins=40);"
   ]
  },
  {
   "cell_type": "markdown",
   "id": "4f318f25-87d3-4a02-8e49-df6789b228a3",
   "metadata": {},
   "source": [
    "В бейзлайн модели получилась неплохая корреляция спирмена - 0.718"
   ]
  },
  {
   "cell_type": "markdown",
   "id": "7b0cb6a9-da7b-4030-9d46-362edaa3f479",
   "metadata": {},
   "source": [
    "ЕМ-алгоритм я пока что не осилил. Если успею, постараюсь дополнить работу до того, как вы проверите её."
   ]
  }
 ],
 "metadata": {
  "kernelspec": {
   "display_name": "Python 3 (ipykernel)",
   "language": "python",
   "name": "python3"
  },
  "language_info": {
   "codemirror_mode": {
    "name": "ipython",
    "version": 3
   },
   "file_extension": ".py",
   "mimetype": "text/x-python",
   "name": "python",
   "nbconvert_exporter": "python",
   "pygments_lexer": "ipython3",
   "version": "3.10.9"
  }
 },
 "nbformat": 4,
 "nbformat_minor": 5
}
